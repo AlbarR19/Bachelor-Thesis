{
  "cells": [
    {
      "cell_type": "markdown",
      "metadata": {
        "id": "o0ZSHRCgVky6"
      },
      "source": [
        "# Inisialisasi Library"
      ]
    },
    {
      "cell_type": "code",
      "execution_count": 1,
      "metadata": {
        "id": "5pTIdT850xM5"
      },
      "outputs": [],
      "source": [
        "from sklearn.ensemble import RandomForestClassifier\n",
        "from xgboost import XGBClassifier\n",
        "from sklearn import model_selection\n",
        "from sklearn import preprocessing\n",
        "from sklearn.model_selection import train_test_split, KFold, cross_val_score, RandomizedSearchCV\n",
        "from sklearn.metrics import confusion_matrix, ConfusionMatrixDisplay, classification_report, accuracy_score,precision_score, f1_score, recall_score\n",
        "from matplotlib import pyplot as plt\n",
        "import numpy as np\n",
        "import seaborn as sns\n",
        "import pandas as pd"
      ]
    },
    {
      "cell_type": "markdown",
      "metadata": {
        "id": "u-YJGBDbWGPk"
      },
      "source": [
        "# Inisialisasi Dataset"
      ]
    },
    {
      "cell_type": "markdown",
      "metadata": {
        "id": "Xv03T8BaWmYY"
      },
      "source": [
        "## Inisialisasi Football Data"
      ]
    },
    {
      "cell_type": "code",
      "execution_count": 2,
      "metadata": {
        "id": "5MKI3ugRf0Gu"
      },
      "outputs": [],
      "source": [
        "filepath = '/content/drive/MyDrive/Tugas Akhir/Model'\n",
        "\n",
        "#Membuka File CSV data statistik liga inggris\n",
        "EPL1718 = pd.read_csv(filepath + '/Raw/EPL1718.csv')\n",
        "EPL1819 = pd.read_csv(filepath + '/Raw/EPL1819.csv')\n",
        "EPL1920 = pd.read_csv(filepath + '/Raw/EPL1920.csv')\n",
        "EPL2021 = pd.read_csv(filepath + '/Raw/EPL2021.csv')\n",
        "EPL2122 = pd.read_csv(filepath + '/Raw/EPL2122.csv')\n",
        "EPL2223 = pd.read_csv(filepath + '/Raw/EPL2223.csv')\n",
        "EPL2324 = pd.read_csv(filepath + '/Raw/EPL2324.csv')\n",
        "\n",
        "#Menggabungkan Data Setiap Musim Menjadi Satu\n",
        "footballdata = pd.concat([EPL1718,EPL1819, EPL1920,EPL2021,EPL2122,EPL2223,EPL2324], ignore_index=True)"
      ]
    },
    {
      "cell_type": "markdown",
      "metadata": {
        "id": "uWQpoNsiWXTd"
      },
      "source": [
        "## Web Scraping FBREF"
      ]
    },
    {
      "cell_type": "code",
      "execution_count": 3,
      "metadata": {
        "colab": {
          "base_uri": "https://localhost:8080/"
        },
        "id": "5PcfdpCfEyR1",
        "outputId": "b9125e2c-bdb0-4a7a-cffa-4c0fb24182ed"
      },
      "outputs": [
        {
          "name": "stdout",
          "output_type": "stream",
          "text": [
            "Data Scraping FBREF berhasil diambil\n"
          ]
        }
      ],
      "source": [
        "try:\n",
        "  #Data Scraping pertandingan English Premier League yang tersedia xG dari FBREF\n",
        "  EPL1718xG = pd.read_html('https://fbref.com/en/comps/9/2017-2018/schedule/2017-2018-Premier-League-Scores-and-Fixtures', attrs={\"id\":\"sched_2017-2018_9_1\"})[0]\n",
        "  EPL1819xG = pd.read_html('https://fbref.com/en/comps/9/2018-2019/schedule/2018-2019-Premier-League-Scores-and-Fixtures', attrs={\"id\":\"sched_2018-2019_9_1\"})[0]\n",
        "  EPL1920xG = pd.read_html('https://fbref.com/en/comps/9/2019-2020/schedule/2019-2020-Premier-League-Scores-and-Fixtures', attrs={\"id\":\"sched_2019-2020_9_1\"})[0]\n",
        "  EPL2021xG = pd.read_html('https://fbref.com/en/comps/9/2020-2021/schedule/2020-2021-Premier-League-Scores-and-Fixtures', attrs={\"id\":\"sched_2020-2021_9_1\"})[0]\n",
        "  EPL2122xG = pd.read_html('https://fbref.com/en/comps/9/2021-2022/schedule/2021-2022-Premier-League-Scores-and-Fixtures', attrs={\"id\":\"sched_2021-2022_9_1\"})[0]\n",
        "  EPL2223xG = pd.read_html('https://fbref.com/en/comps/9/2022-2023/schedule/2022-2023-Premier-League-Scores-and-Fixtures', attrs={\"id\":\"sched_2022-2023_9_1\"})[0]\n",
        "  EPL2324xG = pd.read_html('https://fbref.com/en/comps/9/2023-2024/schedule/2023-2024-Premier-League-Scores-and-Fixtures', attrs={\"id\":\"sched_2023-2024_9_1\"})[0]\n",
        "  print(\"Data Scraping FBREF berhasil diambil\")\n",
        "\n",
        "except Exception as e:\n",
        "  EPL1718xG = pd.read_csv(filepath + \"/Raw/EPL1718xG.csv\")\n",
        "  EPL1819xG = pd.read_csv(filepath + \"/Raw/EPL1819xG.csv\")\n",
        "  EPL1920xG = pd.read_csv(filepath + \"/Raw/EPL1920xG.csv\")\n",
        "  EPL2021xG = pd.read_csv(filepath + \"/Raw/EPL2021xG.csv\")\n",
        "  EPL2122xG = pd.read_csv(filepath + \"/Raw/EPL2122xG.csv\")\n",
        "  EPL2223xG = pd.read_csv(filepath + \"/Raw/EPL2223xG.csv\")\n",
        "  EPL2324xG = pd.read_csv(filepath + \"/Raw/EPL2324xG.csv\")\n",
        "  print(\"Data Scraping FBREF gagal diambil sehingga menggunakan data yang sudah diunduh\")\n",
        "  print(e)\n",
        "\n",
        "#Menggabungkan Data Setiap Musim Menjadi Satu\n",
        "fbref = pd.concat([EPL1718xG,EPL1819xG, EPL1920xG,EPL2021xG,EPL2122xG,EPL2223xG,EPL2324xG], ignore_index=True)\n",
        "fbref.to_csv(filepath + '/Raw/fbref.csv', index=False)"
      ]
    },
    {
      "cell_type": "markdown",
      "metadata": {
        "id": "eDIKdsVAWR7e"
      },
      "source": [
        "# Pra-pemrosesan Data"
      ]
    },
    {
      "cell_type": "markdown",
      "metadata": {
        "id": "wukcAPyOl5yi"
      },
      "source": [
        "## Menggabungkan footballdata dan fbref"
      ]
    },
    {
      "cell_type": "code",
      "execution_count": 4,
      "metadata": {
        "id": "pn4vjJAa6x0M"
      },
      "outputs": [],
      "source": [
        "#Menggabungkan dataset football-data dan football reference menjadi satu\n",
        "def gabung (football_data, fbref):\n",
        "\n",
        "    #Memilih fitur statistik pertandingan sepak bola dan menghapus fitur nilai taruhan\n",
        "    football_data = football_data[['FTR','FTHG','FTAG','HTHG','HTAG','HS','AS','HST','AST','HF','AF','HC','AC','HY','AY','HR','AR']]\n",
        "\n",
        "    #Mengganti nama menyesuaikan kolom di football-data\n",
        "    fbref = fbref.rename(columns={ \"xG\": \"HxG\", \"xG.1\": \"AxG\"})\n",
        "\n",
        "    #mengurutkan data FBREF menurut tanggal dan nama home team\n",
        "    fbref = fbref.sort_values(by=['Date','Home'],ascending=[True, True]).reset_index(drop=True)\n",
        "\n",
        "    #Memilih Fitur xG untuk digabungkan\n",
        "    fbref = fbref[['HxG','AxG']]\n",
        "\n",
        "    #menghapus missing value\n",
        "    fbref = fbref.dropna()\n",
        "\n",
        "    #menggabungkan data statistik pertandingan sepak bola dengan data xG FBREF\n",
        "    dataset= pd.merge(football_data, fbref, left_index=True, right_index=True)\n",
        "\n",
        "    #mengatur urutan fitur di dataset\n",
        "    dataset = dataset[['FTR','FTHG','FTAG','HTHG','HTAG','HxG','AxG','HS','AS','HST','AST','HF','AF','HC','AC','HY','AY','HR','AR',]]\n",
        "\n",
        "    return dataset"
      ]
    },
    {
      "cell_type": "code",
      "execution_count": 5,
      "metadata": {
        "colab": {
          "base_uri": "https://localhost:8080/",
          "height": 424
        },
        "collapsed": true,
        "id": "N0YTFP5jeyjm",
        "outputId": "d845dece-5377-48a3-b190-9b5384154426"
      },
      "outputs": [
        {
          "data": {
            "application/vnd.google.colaboratory.intrinsic+json": {
              "summary": "{\n  \"name\": \"dataset\",\n  \"rows\": 2660,\n  \"fields\": [\n    {\n      \"column\": \"FTR\",\n      \"properties\": {\n        \"dtype\": \"category\",\n        \"num_unique_values\": 3,\n        \"samples\": [\n          \"H\",\n          \"A\",\n          \"D\"\n        ],\n        \"semantic_type\": \"\",\n        \"description\": \"\"\n      }\n    },\n    {\n      \"column\": \"FTHG\",\n      \"properties\": {\n        \"dtype\": \"number\",\n        \"std\": 1,\n        \"min\": 0,\n        \"max\": 9,\n        \"num_unique_values\": 10,\n        \"samples\": [\n          8,\n          0,\n          5\n        ],\n        \"semantic_type\": \"\",\n        \"description\": \"\"\n      }\n    },\n    {\n      \"column\": \"FTAG\",\n      \"properties\": {\n        \"dtype\": \"number\",\n        \"std\": 1,\n        \"min\": 0,\n        \"max\": 9,\n        \"num_unique_values\": 10,\n        \"samples\": [\n          7,\n          2,\n          6\n        ],\n        \"semantic_type\": \"\",\n        \"description\": \"\"\n      }\n    },\n    {\n      \"column\": \"HTHG\",\n      \"properties\": {\n        \"dtype\": \"number\",\n        \"std\": 0,\n        \"min\": 0,\n        \"max\": 5,\n        \"num_unique_values\": 6,\n        \"samples\": [\n          2,\n          0,\n          5\n        ],\n        \"semantic_type\": \"\",\n        \"description\": \"\"\n      }\n    },\n    {\n      \"column\": \"HTAG\",\n      \"properties\": {\n        \"dtype\": \"number\",\n        \"std\": 0,\n        \"min\": 0,\n        \"max\": 5,\n        \"num_unique_values\": 6,\n        \"samples\": [\n          2,\n          0,\n          4\n        ],\n        \"semantic_type\": \"\",\n        \"description\": \"\"\n      }\n    },\n    {\n      \"column\": \"HxG\",\n      \"properties\": {\n        \"dtype\": \"number\",\n        \"std\": 0.851148372819822,\n        \"min\": 0.0,\n        \"max\": 7.0,\n        \"num_unique_values\": 51,\n        \"samples\": [\n          0.0,\n          4.2,\n          4.1\n        ],\n        \"semantic_type\": \"\",\n        \"description\": \"\"\n      }\n    },\n    {\n      \"column\": \"AxG\",\n      \"properties\": {\n        \"dtype\": \"number\",\n        \"std\": 0.7528867447955008,\n        \"min\": 0.0,\n        \"max\": 4.6,\n        \"num_unique_values\": 46,\n        \"samples\": [\n          4.4,\n          1.6,\n          0.1\n        ],\n        \"semantic_type\": \"\",\n        \"description\": \"\"\n      }\n    },\n    {\n      \"column\": \"HS\",\n      \"properties\": {\n        \"dtype\": \"number\",\n        \"std\": 5,\n        \"min\": 0,\n        \"max\": 36,\n        \"num_unique_values\": 37,\n        \"samples\": [\n          12,\n          8,\n          9\n        ],\n        \"semantic_type\": \"\",\n        \"description\": \"\"\n      }\n    },\n    {\n      \"column\": \"AS\",\n      \"properties\": {\n        \"dtype\": \"number\",\n        \"std\": 5,\n        \"min\": 0,\n        \"max\": 31,\n        \"num_unique_values\": 32,\n        \"samples\": [\n          27,\n          15,\n          22\n        ],\n        \"semantic_type\": \"\",\n        \"description\": \"\"\n      }\n    },\n    {\n      \"column\": \"HST\",\n      \"properties\": {\n        \"dtype\": \"number\",\n        \"std\": 2,\n        \"min\": 0,\n        \"max\": 15,\n        \"num_unique_values\": 16,\n        \"samples\": [\n          10,\n          2,\n          0\n        ],\n        \"semantic_type\": \"\",\n        \"description\": \"\"\n      }\n    },\n    {\n      \"column\": \"AST\",\n      \"properties\": {\n        \"dtype\": \"number\",\n        \"std\": 2,\n        \"min\": 0,\n        \"max\": 15,\n        \"num_unique_values\": 16,\n        \"samples\": [\n          3,\n          4,\n          0\n        ],\n        \"semantic_type\": \"\",\n        \"description\": \"\"\n      }\n    },\n    {\n      \"column\": \"HF\",\n      \"properties\": {\n        \"dtype\": \"number\",\n        \"std\": 3,\n        \"min\": 0,\n        \"max\": 23,\n        \"num_unique_values\": 24,\n        \"samples\": [\n          19,\n          4,\n          9\n        ],\n        \"semantic_type\": \"\",\n        \"description\": \"\"\n      }\n    },\n    {\n      \"column\": \"AF\",\n      \"properties\": {\n        \"dtype\": \"number\",\n        \"std\": 3,\n        \"min\": 1,\n        \"max\": 26,\n        \"num_unique_values\": 26,\n        \"samples\": [\n          7,\n          20,\n          12\n        ],\n        \"semantic_type\": \"\",\n        \"description\": \"\"\n      }\n    },\n    {\n      \"column\": \"HC\",\n      \"properties\": {\n        \"dtype\": \"number\",\n        \"std\": 3,\n        \"min\": 0,\n        \"max\": 18,\n        \"num_unique_values\": 19,\n        \"samples\": [\n          9,\n          13,\n          14\n        ],\n        \"semantic_type\": \"\",\n        \"description\": \"\"\n      }\n    },\n    {\n      \"column\": \"AC\",\n      \"properties\": {\n        \"dtype\": \"number\",\n        \"std\": 2,\n        \"min\": 0,\n        \"max\": 19,\n        \"num_unique_values\": 18,\n        \"samples\": [\n          4,\n          10,\n          1\n        ],\n        \"semantic_type\": \"\",\n        \"description\": \"\"\n      }\n    },\n    {\n      \"column\": \"HY\",\n      \"properties\": {\n        \"dtype\": \"number\",\n        \"std\": 1,\n        \"min\": 0,\n        \"max\": 6,\n        \"num_unique_values\": 7,\n        \"samples\": [\n          0,\n          3,\n          4\n        ],\n        \"semantic_type\": \"\",\n        \"description\": \"\"\n      }\n    },\n    {\n      \"column\": \"AY\",\n      \"properties\": {\n        \"dtype\": \"number\",\n        \"std\": 1,\n        \"min\": 0,\n        \"max\": 7,\n        \"num_unique_values\": 8,\n        \"samples\": [\n          2,\n          5,\n          1\n        ],\n        \"semantic_type\": \"\",\n        \"description\": \"\"\n      }\n    },\n    {\n      \"column\": \"HR\",\n      \"properties\": {\n        \"dtype\": \"number\",\n        \"std\": 0,\n        \"min\": 0,\n        \"max\": 2,\n        \"num_unique_values\": 3,\n        \"samples\": [\n          0,\n          2,\n          1\n        ],\n        \"semantic_type\": \"\",\n        \"description\": \"\"\n      }\n    },\n    {\n      \"column\": \"AR\",\n      \"properties\": {\n        \"dtype\": \"number\",\n        \"std\": 0,\n        \"min\": 0,\n        \"max\": 2,\n        \"num_unique_values\": 3,\n        \"samples\": [\n          0,\n          1,\n          2\n        ],\n        \"semantic_type\": \"\",\n        \"description\": \"\"\n      }\n    }\n  ]\n}",
              "type": "dataframe",
              "variable_name": "dataset"
            },
            "text/html": [
              "\n",
              "  <div id=\"df-42be3081-7bb9-46ee-bfc7-1b98dc19e3b6\" class=\"colab-df-container\">\n",
              "    <div>\n",
              "<style scoped>\n",
              "    .dataframe tbody tr th:only-of-type {\n",
              "        vertical-align: middle;\n",
              "    }\n",
              "\n",
              "    .dataframe tbody tr th {\n",
              "        vertical-align: top;\n",
              "    }\n",
              "\n",
              "    .dataframe thead th {\n",
              "        text-align: right;\n",
              "    }\n",
              "</style>\n",
              "<table border=\"1\" class=\"dataframe\">\n",
              "  <thead>\n",
              "    <tr style=\"text-align: right;\">\n",
              "      <th></th>\n",
              "      <th>FTR</th>\n",
              "      <th>FTHG</th>\n",
              "      <th>FTAG</th>\n",
              "      <th>HTHG</th>\n",
              "      <th>HTAG</th>\n",
              "      <th>HxG</th>\n",
              "      <th>AxG</th>\n",
              "      <th>HS</th>\n",
              "      <th>AS</th>\n",
              "      <th>HST</th>\n",
              "      <th>AST</th>\n",
              "      <th>HF</th>\n",
              "      <th>AF</th>\n",
              "      <th>HC</th>\n",
              "      <th>AC</th>\n",
              "      <th>HY</th>\n",
              "      <th>AY</th>\n",
              "      <th>HR</th>\n",
              "      <th>AR</th>\n",
              "    </tr>\n",
              "  </thead>\n",
              "  <tbody>\n",
              "    <tr>\n",
              "      <th>0</th>\n",
              "      <td>H</td>\n",
              "      <td>4</td>\n",
              "      <td>3</td>\n",
              "      <td>2</td>\n",
              "      <td>2</td>\n",
              "      <td>2.5</td>\n",
              "      <td>1.5</td>\n",
              "      <td>27</td>\n",
              "      <td>6</td>\n",
              "      <td>10</td>\n",
              "      <td>3</td>\n",
              "      <td>9</td>\n",
              "      <td>12</td>\n",
              "      <td>9</td>\n",
              "      <td>4</td>\n",
              "      <td>0</td>\n",
              "      <td>1</td>\n",
              "      <td>0</td>\n",
              "      <td>0</td>\n",
              "    </tr>\n",
              "    <tr>\n",
              "      <th>1</th>\n",
              "      <td>A</td>\n",
              "      <td>0</td>\n",
              "      <td>2</td>\n",
              "      <td>0</td>\n",
              "      <td>0</td>\n",
              "      <td>0.3</td>\n",
              "      <td>1.9</td>\n",
              "      <td>6</td>\n",
              "      <td>14</td>\n",
              "      <td>2</td>\n",
              "      <td>4</td>\n",
              "      <td>6</td>\n",
              "      <td>9</td>\n",
              "      <td>3</td>\n",
              "      <td>10</td>\n",
              "      <td>0</td>\n",
              "      <td>2</td>\n",
              "      <td>0</td>\n",
              "      <td>0</td>\n",
              "    </tr>\n",
              "    <tr>\n",
              "      <th>2</th>\n",
              "      <td>A</td>\n",
              "      <td>2</td>\n",
              "      <td>3</td>\n",
              "      <td>0</td>\n",
              "      <td>3</td>\n",
              "      <td>1.5</td>\n",
              "      <td>0.6</td>\n",
              "      <td>19</td>\n",
              "      <td>10</td>\n",
              "      <td>6</td>\n",
              "      <td>5</td>\n",
              "      <td>16</td>\n",
              "      <td>11</td>\n",
              "      <td>8</td>\n",
              "      <td>5</td>\n",
              "      <td>3</td>\n",
              "      <td>3</td>\n",
              "      <td>2</td>\n",
              "      <td>0</td>\n",
              "    </tr>\n",
              "    <tr>\n",
              "      <th>3</th>\n",
              "      <td>A</td>\n",
              "      <td>0</td>\n",
              "      <td>3</td>\n",
              "      <td>0</td>\n",
              "      <td>2</td>\n",
              "      <td>1.1</td>\n",
              "      <td>1.5</td>\n",
              "      <td>14</td>\n",
              "      <td>8</td>\n",
              "      <td>4</td>\n",
              "      <td>6</td>\n",
              "      <td>7</td>\n",
              "      <td>19</td>\n",
              "      <td>12</td>\n",
              "      <td>9</td>\n",
              "      <td>1</td>\n",
              "      <td>3</td>\n",
              "      <td>0</td>\n",
              "      <td>0</td>\n",
              "    </tr>\n",
              "    <tr>\n",
              "      <th>4</th>\n",
              "      <td>H</td>\n",
              "      <td>1</td>\n",
              "      <td>0</td>\n",
              "      <td>1</td>\n",
              "      <td>0</td>\n",
              "      <td>0.6</td>\n",
              "      <td>0.4</td>\n",
              "      <td>9</td>\n",
              "      <td>9</td>\n",
              "      <td>4</td>\n",
              "      <td>1</td>\n",
              "      <td>13</td>\n",
              "      <td>10</td>\n",
              "      <td>6</td>\n",
              "      <td>7</td>\n",
              "      <td>1</td>\n",
              "      <td>1</td>\n",
              "      <td>0</td>\n",
              "      <td>0</td>\n",
              "    </tr>\n",
              "    <tr>\n",
              "      <th>...</th>\n",
              "      <td>...</td>\n",
              "      <td>...</td>\n",
              "      <td>...</td>\n",
              "      <td>...</td>\n",
              "      <td>...</td>\n",
              "      <td>...</td>\n",
              "      <td>...</td>\n",
              "      <td>...</td>\n",
              "      <td>...</td>\n",
              "      <td>...</td>\n",
              "      <td>...</td>\n",
              "      <td>...</td>\n",
              "      <td>...</td>\n",
              "      <td>...</td>\n",
              "      <td>...</td>\n",
              "      <td>...</td>\n",
              "      <td>...</td>\n",
              "      <td>...</td>\n",
              "      <td>...</td>\n",
              "    </tr>\n",
              "    <tr>\n",
              "      <th>2655</th>\n",
              "      <td>H</td>\n",
              "      <td>5</td>\n",
              "      <td>0</td>\n",
              "      <td>2</td>\n",
              "      <td>0</td>\n",
              "      <td>2.5</td>\n",
              "      <td>0.9</td>\n",
              "      <td>15</td>\n",
              "      <td>8</td>\n",
              "      <td>9</td>\n",
              "      <td>2</td>\n",
              "      <td>10</td>\n",
              "      <td>8</td>\n",
              "      <td>2</td>\n",
              "      <td>4</td>\n",
              "      <td>1</td>\n",
              "      <td>4</td>\n",
              "      <td>0</td>\n",
              "      <td>0</td>\n",
              "    </tr>\n",
              "    <tr>\n",
              "      <th>2656</th>\n",
              "      <td>H</td>\n",
              "      <td>2</td>\n",
              "      <td>0</td>\n",
              "      <td>2</td>\n",
              "      <td>0</td>\n",
              "      <td>4.5</td>\n",
              "      <td>0.5</td>\n",
              "      <td>36</td>\n",
              "      <td>4</td>\n",
              "      <td>14</td>\n",
              "      <td>3</td>\n",
              "      <td>14</td>\n",
              "      <td>11</td>\n",
              "      <td>10</td>\n",
              "      <td>2</td>\n",
              "      <td>1</td>\n",
              "      <td>1</td>\n",
              "      <td>0</td>\n",
              "      <td>1</td>\n",
              "    </tr>\n",
              "    <tr>\n",
              "      <th>2657</th>\n",
              "      <td>A</td>\n",
              "      <td>2</td>\n",
              "      <td>4</td>\n",
              "      <td>1</td>\n",
              "      <td>2</td>\n",
              "      <td>2.0</td>\n",
              "      <td>1.1</td>\n",
              "      <td>15</td>\n",
              "      <td>15</td>\n",
              "      <td>6</td>\n",
              "      <td>7</td>\n",
              "      <td>15</td>\n",
              "      <td>20</td>\n",
              "      <td>4</td>\n",
              "      <td>4</td>\n",
              "      <td>5</td>\n",
              "      <td>4</td>\n",
              "      <td>0</td>\n",
              "      <td>0</td>\n",
              "    </tr>\n",
              "    <tr>\n",
              "      <th>2658</th>\n",
              "      <td>H</td>\n",
              "      <td>3</td>\n",
              "      <td>1</td>\n",
              "      <td>2</td>\n",
              "      <td>1</td>\n",
              "      <td>1.9</td>\n",
              "      <td>0.4</td>\n",
              "      <td>28</td>\n",
              "      <td>3</td>\n",
              "      <td>12</td>\n",
              "      <td>2</td>\n",
              "      <td>3</td>\n",
              "      <td>12</td>\n",
              "      <td>11</td>\n",
              "      <td>2</td>\n",
              "      <td>0</td>\n",
              "      <td>1</td>\n",
              "      <td>0</td>\n",
              "      <td>0</td>\n",
              "    </tr>\n",
              "    <tr>\n",
              "      <th>2659</th>\n",
              "      <td>A</td>\n",
              "      <td>0</td>\n",
              "      <td>3</td>\n",
              "      <td>0</td>\n",
              "      <td>1</td>\n",
              "      <td>1.0</td>\n",
              "      <td>3.1</td>\n",
              "      <td>6</td>\n",
              "      <td>18</td>\n",
              "      <td>1</td>\n",
              "      <td>9</td>\n",
              "      <td>11</td>\n",
              "      <td>9</td>\n",
              "      <td>2</td>\n",
              "      <td>6</td>\n",
              "      <td>2</td>\n",
              "      <td>0</td>\n",
              "      <td>0</td>\n",
              "      <td>0</td>\n",
              "    </tr>\n",
              "  </tbody>\n",
              "</table>\n",
              "<p>2660 rows × 19 columns</p>\n",
              "</div>\n",
              "    <div class=\"colab-df-buttons\">\n",
              "\n",
              "  <div class=\"colab-df-container\">\n",
              "    <button class=\"colab-df-convert\" onclick=\"convertToInteractive('df-42be3081-7bb9-46ee-bfc7-1b98dc19e3b6')\"\n",
              "            title=\"Convert this dataframe to an interactive table.\"\n",
              "            style=\"display:none;\">\n",
              "\n",
              "  <svg xmlns=\"http://www.w3.org/2000/svg\" height=\"24px\" viewBox=\"0 -960 960 960\">\n",
              "    <path d=\"M120-120v-720h720v720H120Zm60-500h600v-160H180v160Zm220 220h160v-160H400v160Zm0 220h160v-160H400v160ZM180-400h160v-160H180v160Zm440 0h160v-160H620v160ZM180-180h160v-160H180v160Zm440 0h160v-160H620v160Z\"/>\n",
              "  </svg>\n",
              "    </button>\n",
              "\n",
              "  <style>\n",
              "    .colab-df-container {\n",
              "      display:flex;\n",
              "      gap: 12px;\n",
              "    }\n",
              "\n",
              "    .colab-df-convert {\n",
              "      background-color: #E8F0FE;\n",
              "      border: none;\n",
              "      border-radius: 50%;\n",
              "      cursor: pointer;\n",
              "      display: none;\n",
              "      fill: #1967D2;\n",
              "      height: 32px;\n",
              "      padding: 0 0 0 0;\n",
              "      width: 32px;\n",
              "    }\n",
              "\n",
              "    .colab-df-convert:hover {\n",
              "      background-color: #E2EBFA;\n",
              "      box-shadow: 0px 1px 2px rgba(60, 64, 67, 0.3), 0px 1px 3px 1px rgba(60, 64, 67, 0.15);\n",
              "      fill: #174EA6;\n",
              "    }\n",
              "\n",
              "    .colab-df-buttons div {\n",
              "      margin-bottom: 4px;\n",
              "    }\n",
              "\n",
              "    [theme=dark] .colab-df-convert {\n",
              "      background-color: #3B4455;\n",
              "      fill: #D2E3FC;\n",
              "    }\n",
              "\n",
              "    [theme=dark] .colab-df-convert:hover {\n",
              "      background-color: #434B5C;\n",
              "      box-shadow: 0px 1px 3px 1px rgba(0, 0, 0, 0.15);\n",
              "      filter: drop-shadow(0px 1px 2px rgba(0, 0, 0, 0.3));\n",
              "      fill: #FFFFFF;\n",
              "    }\n",
              "  </style>\n",
              "\n",
              "    <script>\n",
              "      const buttonEl =\n",
              "        document.querySelector('#df-42be3081-7bb9-46ee-bfc7-1b98dc19e3b6 button.colab-df-convert');\n",
              "      buttonEl.style.display =\n",
              "        google.colab.kernel.accessAllowed ? 'block' : 'none';\n",
              "\n",
              "      async function convertToInteractive(key) {\n",
              "        const element = document.querySelector('#df-42be3081-7bb9-46ee-bfc7-1b98dc19e3b6');\n",
              "        const dataTable =\n",
              "          await google.colab.kernel.invokeFunction('convertToInteractive',\n",
              "                                                    [key], {});\n",
              "        if (!dataTable) return;\n",
              "\n",
              "        const docLinkHtml = 'Like what you see? Visit the ' +\n",
              "          '<a target=\"_blank\" href=https://colab.research.google.com/notebooks/data_table.ipynb>data table notebook</a>'\n",
              "          + ' to learn more about interactive tables.';\n",
              "        element.innerHTML = '';\n",
              "        dataTable['output_type'] = 'display_data';\n",
              "        await google.colab.output.renderOutput(dataTable, element);\n",
              "        const docLink = document.createElement('div');\n",
              "        docLink.innerHTML = docLinkHtml;\n",
              "        element.appendChild(docLink);\n",
              "      }\n",
              "    </script>\n",
              "  </div>\n",
              "\n",
              "\n",
              "<div id=\"df-2ed66f14-203e-48d1-bd78-9af9d0b820fd\">\n",
              "  <button class=\"colab-df-quickchart\" onclick=\"quickchart('df-2ed66f14-203e-48d1-bd78-9af9d0b820fd')\"\n",
              "            title=\"Suggest charts\"\n",
              "            style=\"display:none;\">\n",
              "\n",
              "<svg xmlns=\"http://www.w3.org/2000/svg\" height=\"24px\"viewBox=\"0 0 24 24\"\n",
              "     width=\"24px\">\n",
              "    <g>\n",
              "        <path d=\"M19 3H5c-1.1 0-2 .9-2 2v14c0 1.1.9 2 2 2h14c1.1 0 2-.9 2-2V5c0-1.1-.9-2-2-2zM9 17H7v-7h2v7zm4 0h-2V7h2v10zm4 0h-2v-4h2v4z\"/>\n",
              "    </g>\n",
              "</svg>\n",
              "  </button>\n",
              "\n",
              "<style>\n",
              "  .colab-df-quickchart {\n",
              "      --bg-color: #E8F0FE;\n",
              "      --fill-color: #1967D2;\n",
              "      --hover-bg-color: #E2EBFA;\n",
              "      --hover-fill-color: #174EA6;\n",
              "      --disabled-fill-color: #AAA;\n",
              "      --disabled-bg-color: #DDD;\n",
              "  }\n",
              "\n",
              "  [theme=dark] .colab-df-quickchart {\n",
              "      --bg-color: #3B4455;\n",
              "      --fill-color: #D2E3FC;\n",
              "      --hover-bg-color: #434B5C;\n",
              "      --hover-fill-color: #FFFFFF;\n",
              "      --disabled-bg-color: #3B4455;\n",
              "      --disabled-fill-color: #666;\n",
              "  }\n",
              "\n",
              "  .colab-df-quickchart {\n",
              "    background-color: var(--bg-color);\n",
              "    border: none;\n",
              "    border-radius: 50%;\n",
              "    cursor: pointer;\n",
              "    display: none;\n",
              "    fill: var(--fill-color);\n",
              "    height: 32px;\n",
              "    padding: 0;\n",
              "    width: 32px;\n",
              "  }\n",
              "\n",
              "  .colab-df-quickchart:hover {\n",
              "    background-color: var(--hover-bg-color);\n",
              "    box-shadow: 0 1px 2px rgba(60, 64, 67, 0.3), 0 1px 3px 1px rgba(60, 64, 67, 0.15);\n",
              "    fill: var(--button-hover-fill-color);\n",
              "  }\n",
              "\n",
              "  .colab-df-quickchart-complete:disabled,\n",
              "  .colab-df-quickchart-complete:disabled:hover {\n",
              "    background-color: var(--disabled-bg-color);\n",
              "    fill: var(--disabled-fill-color);\n",
              "    box-shadow: none;\n",
              "  }\n",
              "\n",
              "  .colab-df-spinner {\n",
              "    border: 2px solid var(--fill-color);\n",
              "    border-color: transparent;\n",
              "    border-bottom-color: var(--fill-color);\n",
              "    animation:\n",
              "      spin 1s steps(1) infinite;\n",
              "  }\n",
              "\n",
              "  @keyframes spin {\n",
              "    0% {\n",
              "      border-color: transparent;\n",
              "      border-bottom-color: var(--fill-color);\n",
              "      border-left-color: var(--fill-color);\n",
              "    }\n",
              "    20% {\n",
              "      border-color: transparent;\n",
              "      border-left-color: var(--fill-color);\n",
              "      border-top-color: var(--fill-color);\n",
              "    }\n",
              "    30% {\n",
              "      border-color: transparent;\n",
              "      border-left-color: var(--fill-color);\n",
              "      border-top-color: var(--fill-color);\n",
              "      border-right-color: var(--fill-color);\n",
              "    }\n",
              "    40% {\n",
              "      border-color: transparent;\n",
              "      border-right-color: var(--fill-color);\n",
              "      border-top-color: var(--fill-color);\n",
              "    }\n",
              "    60% {\n",
              "      border-color: transparent;\n",
              "      border-right-color: var(--fill-color);\n",
              "    }\n",
              "    80% {\n",
              "      border-color: transparent;\n",
              "      border-right-color: var(--fill-color);\n",
              "      border-bottom-color: var(--fill-color);\n",
              "    }\n",
              "    90% {\n",
              "      border-color: transparent;\n",
              "      border-bottom-color: var(--fill-color);\n",
              "    }\n",
              "  }\n",
              "</style>\n",
              "\n",
              "  <script>\n",
              "    async function quickchart(key) {\n",
              "      const quickchartButtonEl =\n",
              "        document.querySelector('#' + key + ' button');\n",
              "      quickchartButtonEl.disabled = true;  // To prevent multiple clicks.\n",
              "      quickchartButtonEl.classList.add('colab-df-spinner');\n",
              "      try {\n",
              "        const charts = await google.colab.kernel.invokeFunction(\n",
              "            'suggestCharts', [key], {});\n",
              "      } catch (error) {\n",
              "        console.error('Error during call to suggestCharts:', error);\n",
              "      }\n",
              "      quickchartButtonEl.classList.remove('colab-df-spinner');\n",
              "      quickchartButtonEl.classList.add('colab-df-quickchart-complete');\n",
              "    }\n",
              "    (() => {\n",
              "      let quickchartButtonEl =\n",
              "        document.querySelector('#df-2ed66f14-203e-48d1-bd78-9af9d0b820fd button');\n",
              "      quickchartButtonEl.style.display =\n",
              "        google.colab.kernel.accessAllowed ? 'block' : 'none';\n",
              "    })();\n",
              "  </script>\n",
              "</div>\n",
              "\n",
              "  <div id=\"id_da4dcecf-b94f-4e0b-8260-f53049e59c80\">\n",
              "    <style>\n",
              "      .colab-df-generate {\n",
              "        background-color: #E8F0FE;\n",
              "        border: none;\n",
              "        border-radius: 50%;\n",
              "        cursor: pointer;\n",
              "        display: none;\n",
              "        fill: #1967D2;\n",
              "        height: 32px;\n",
              "        padding: 0 0 0 0;\n",
              "        width: 32px;\n",
              "      }\n",
              "\n",
              "      .colab-df-generate:hover {\n",
              "        background-color: #E2EBFA;\n",
              "        box-shadow: 0px 1px 2px rgba(60, 64, 67, 0.3), 0px 1px 3px 1px rgba(60, 64, 67, 0.15);\n",
              "        fill: #174EA6;\n",
              "      }\n",
              "\n",
              "      [theme=dark] .colab-df-generate {\n",
              "        background-color: #3B4455;\n",
              "        fill: #D2E3FC;\n",
              "      }\n",
              "\n",
              "      [theme=dark] .colab-df-generate:hover {\n",
              "        background-color: #434B5C;\n",
              "        box-shadow: 0px 1px 3px 1px rgba(0, 0, 0, 0.15);\n",
              "        filter: drop-shadow(0px 1px 2px rgba(0, 0, 0, 0.3));\n",
              "        fill: #FFFFFF;\n",
              "      }\n",
              "    </style>\n",
              "    <button class=\"colab-df-generate\" onclick=\"generateWithVariable('dataset')\"\n",
              "            title=\"Generate code using this dataframe.\"\n",
              "            style=\"display:none;\">\n",
              "\n",
              "  <svg xmlns=\"http://www.w3.org/2000/svg\" height=\"24px\"viewBox=\"0 0 24 24\"\n",
              "       width=\"24px\">\n",
              "    <path d=\"M7,19H8.4L18.45,9,17,7.55,7,17.6ZM5,21V16.75L18.45,3.32a2,2,0,0,1,2.83,0l1.4,1.43a1.91,1.91,0,0,1,.58,1.4,1.91,1.91,0,0,1-.58,1.4L9.25,21ZM18.45,9,17,7.55Zm-12,3A5.31,5.31,0,0,0,4.9,8.1,5.31,5.31,0,0,0,1,6.5,5.31,5.31,0,0,0,4.9,4.9,5.31,5.31,0,0,0,6.5,1,5.31,5.31,0,0,0,8.1,4.9,5.31,5.31,0,0,0,12,6.5,5.46,5.46,0,0,0,6.5,12Z\"/>\n",
              "  </svg>\n",
              "    </button>\n",
              "    <script>\n",
              "      (() => {\n",
              "      const buttonEl =\n",
              "        document.querySelector('#id_da4dcecf-b94f-4e0b-8260-f53049e59c80 button.colab-df-generate');\n",
              "      buttonEl.style.display =\n",
              "        google.colab.kernel.accessAllowed ? 'block' : 'none';\n",
              "\n",
              "      buttonEl.onclick = () => {\n",
              "        google.colab.notebook.generateWithVariable('dataset');\n",
              "      }\n",
              "      })();\n",
              "    </script>\n",
              "  </div>\n",
              "\n",
              "    </div>\n",
              "  </div>\n"
            ],
            "text/plain": [
              "     FTR  FTHG  FTAG  HTHG  HTAG  HxG  AxG  HS  AS  HST  AST  HF  AF  HC  AC  \\\n",
              "0      H     4     3     2     2  2.5  1.5  27   6   10    3   9  12   9   4   \n",
              "1      A     0     2     0     0  0.3  1.9   6  14    2    4   6   9   3  10   \n",
              "2      A     2     3     0     3  1.5  0.6  19  10    6    5  16  11   8   5   \n",
              "3      A     0     3     0     2  1.1  1.5  14   8    4    6   7  19  12   9   \n",
              "4      H     1     0     1     0  0.6  0.4   9   9    4    1  13  10   6   7   \n",
              "...   ..   ...   ...   ...   ...  ...  ...  ..  ..  ...  ...  ..  ..  ..  ..   \n",
              "2655   H     5     0     2     0  2.5  0.9  15   8    9    2  10   8   2   4   \n",
              "2656   H     2     0     2     0  4.5  0.5  36   4   14    3  14  11  10   2   \n",
              "2657   A     2     4     1     2  2.0  1.1  15  15    6    7  15  20   4   4   \n",
              "2658   H     3     1     2     1  1.9  0.4  28   3   12    2   3  12  11   2   \n",
              "2659   A     0     3     0     1  1.0  3.1   6  18    1    9  11   9   2   6   \n",
              "\n",
              "      HY  AY  HR  AR  \n",
              "0      0   1   0   0  \n",
              "1      0   2   0   0  \n",
              "2      3   3   2   0  \n",
              "3      1   3   0   0  \n",
              "4      1   1   0   0  \n",
              "...   ..  ..  ..  ..  \n",
              "2655   1   4   0   0  \n",
              "2656   1   1   0   1  \n",
              "2657   5   4   0   0  \n",
              "2658   0   1   0   0  \n",
              "2659   2   0   0   0  \n",
              "\n",
              "[2660 rows x 19 columns]"
            ]
          },
          "execution_count": 5,
          "metadata": {},
          "output_type": "execute_result"
        }
      ],
      "source": [
        "#memanggil fungsi penggabungan data\n",
        "dataset = gabung(footballdata, fbref)\n",
        "dataset"
      ]
    },
    {
      "cell_type": "markdown",
      "metadata": {
        "id": "3fHu5VozmfQe"
      },
      "source": [
        "## Menyimpan dataset xG\n"
      ]
    },
    {
      "cell_type": "code",
      "execution_count": 6,
      "metadata": {
        "id": "KibPTzAO66UX"
      },
      "outputs": [],
      "source": [
        "#Menyimpan dataset\n",
        "dataset.to_csv(filepath + '/Dataset/DatasetxG.csv', index=False)"
      ]
    },
    {
      "cell_type": "markdown",
      "metadata": {
        "id": "I3upRchnmsWj"
      },
      "source": [
        "## Mengubah Tipe Data dan menjadikan kode"
      ]
    },
    {
      "cell_type": "code",
      "execution_count": 7,
      "metadata": {
        "id": "QKIXnfQjd_n0"
      },
      "outputs": [],
      "source": [
        "# Ubah Tipe Data\n",
        "dataset['FTR'] = dataset['FTR'].astype(str)\n",
        "\n",
        "# Mengubah nama tim dan hasil pertandingan sebagai kode\n",
        "label_encoder = preprocessing.LabelEncoder()\n",
        "dataset['FTR']= label_encoder.fit_transform(dataset['FTR'])"
      ]
    },
    {
      "cell_type": "markdown",
      "metadata": {
        "id": "TplA2r5sb_ey"
      },
      "source": [
        "## Visualisasi Data"
      ]
    },
    {
      "cell_type": "code",
      "execution_count": 8,
      "metadata": {
        "colab": {
          "base_uri": "https://localhost:8080/",
          "height": 533
        },
        "id": "Up8QF1Y8OhCP",
        "outputId": "f93e0f73-7bd7-4f4b-ac6a-e37ecb2f0001"
      },
      "outputs": [
        {
          "name": "stdout",
          "output_type": "stream",
          "text": [
            "FTR\n",
            "2    44.812030\n",
            "0    32.556391\n",
            "1    22.631579\n",
            "Name: proportion, dtype: float64\n"
          ]
        },
        {
          "data": {
            "image/png": "[encoded data removed]",
            "text/plain": [
              "<Figure size 640x480 with 1 Axes>"
            ]
          },
          "metadata": {},
          "output_type": "display_data"
        }
      ],
      "source": [
        "# Frequency distribution on the FTR attribute\n",
        "a = dataset['FTR'].value_counts(normalize=True) * 100\n",
        "a.plot(kind='bar')\n",
        "print(a)\n",
        "plt.show()"
      ]
    },
    {
      "cell_type": "markdown",
      "metadata": {
        "id": "Xdz4VjK1cYMS"
      },
      "source": [
        "## Data Splitting"
      ]
    },
    {
      "cell_type": "code",
      "execution_count": 9,
      "metadata": {
        "colab": {
          "base_uri": "https://localhost:8080/"
        },
        "id": "zMmEtzDChESN",
        "outputId": "88b8d824-6c95-4966-b9b3-4e5fbaff7610"
      },
      "outputs": [
        {
          "name": "stdout",
          "output_type": "stream",
          "text": [
            "Train    xG: (2128, 16) (2128,)\n",
            "Test     xG: (532, 16) (532,)\n",
            "Train nonxG: (2128, 14) (2128,)\n",
            "Test  nonxG: (532, 14) (532,)\n"
          ]
        }
      ],
      "source": [
        "#Data Split Dataset xG\n",
        "train_df, test_df = train_test_split(dataset, test_size=0.2, shuffle=False)\n",
        "\n",
        "y_train1 = train_df['FTR']\n",
        "X_train1 = train_df[train_df.columns[3:].tolist()]\n",
        "\n",
        "y_test1 = test_df['FTR']\n",
        "X_test1 = test_df[test_df.columns[3:].tolist()]\n",
        "\n",
        "y_train2 = train_df['FTR']\n",
        "X_train2 = train_df[train_df.columns[3:5].tolist()+train_df.columns[7:].tolist()]\n",
        "\n",
        "y_test2 = test_df['FTR']\n",
        "X_test2 = test_df[test_df.columns[3:5].tolist()+test_df.columns[7:].tolist()]\n",
        "\n",
        "print(\"Train    xG:\", X_train1.shape, y_train1.shape)\n",
        "print(\"Test     xG:\", X_test1.shape, y_test1.shape)\n",
        "\n",
        "print(\"Train nonxG:\", X_train2.shape, y_train2.shape)\n",
        "print(\"Test  nonxG:\", X_test2.shape, y_test2.shape)"
      ]
    },
    {
      "cell_type": "markdown",
      "metadata": {
        "id": "Po8xxxXPnFPO"
      },
      "source": [
        "# Metode Penelitian\n"
      ]
    },
    {
      "cell_type": "markdown",
      "metadata": {
        "id": "KNDBbZD1m-8_"
      },
      "source": [
        "## Hyperparameter Tuning"
      ]
    },
    {
      "cell_type": "code",
      "execution_count": 41,
      "metadata": {
        "colab": {
          "base_uri": "https://localhost:8080/"
        },
        "id": "wYnt8_hBWh6k",
        "outputId": "71f187fe-6dff-4e25-ca31-064e8a5e0e5a"
      },
      "outputs": [
        {
          "name": "stdout",
          "output_type": "stream",
          "text": [
            "k = 2: mean accuracy = 0.6429\n",
            "k = 3: mean accuracy = 0.6429\n",
            "k = 4: mean accuracy = 0.6443\n",
            "k = 5: mean accuracy = 0.6443\n",
            "k = 6: mean accuracy = 0.6504\n",
            "k = 7: mean accuracy = 0.6438\n",
            "k = 8: mean accuracy = 0.6499\n",
            "k = 9: mean accuracy = 0.6382\n",
            "k = 10: mean accuracy = 0.6400\n",
            "k = 2: mean accuracy = 0.6208\n",
            "k = 3: mean accuracy = 0.6062\n",
            "k = 4: mean accuracy = 0.6198\n",
            "k = 5: mean accuracy = 0.6175\n",
            "k = 6: mean accuracy = 0.6100\n",
            "k = 7: mean accuracy = 0.6184\n",
            "k = 8: mean accuracy = 0.6156\n",
            "k = 9: mean accuracy = 0.6194\n",
            "k = 10: mean accuracy = 0.6198\n"
          ]
        }
      ],
      "source": [
        "#Mencari K Optimal sebelum hyperparameter tuning\n",
        "\n",
        "#menggunakan classifier default\n",
        "classifiers_def = {\n",
        "    \"RandomForest\" : (RandomForestClassifier(random_state=0)),\n",
        "    \"XGBoost\" : (XGBClassifier(random_state=0))\n",
        "}\n",
        "\n",
        "k_values = range(2, 11)\n",
        "mean_scores = []\n",
        "\n",
        "for name, model in classifiers_def.items():\n",
        "  for k in k_values:\n",
        "    kf = KFold(n_splits=k, shuffle=True, random_state=42)\n",
        "    scores = cross_val_score(model, X_train1, y_train1, cv=kf)\n",
        "    mean_score = scores.mean()\n",
        "    mean_scores.append(mean_score)\n",
        "    print(f\"k = {k}: mean accuracy = {mean_score:.4f}\")"
      ]
    },
    {
      "cell_type": "code",
      "execution_count": 56,
      "metadata": {
        "colab": {
          "base_uri": "https://localhost:8080/",
          "height": 564
        },
        "id": "-1PL7SzJiyN2",
        "outputId": "731a5f03-cf71-420d-87ee-3e1e8ebda6c0"
      },
      "outputs": [
        {
          "data": {
            "image/png": "[encoded data removed]",
            "text/plain": [
              "<Figure size 1000x600 with 1 Axes>"
            ]
          },
          "metadata": {},
          "output_type": "display_data"
        }
      ],
      "source": [
        "import matplotlib.pyplot as plt\n",
        "\n",
        "# Data\n",
        "k_values = list(range(2, 11))\n",
        "\n",
        "# Accuracy values for each model\n",
        "random_forest_accuracy = [0.6429, 0.6429, 0.6443, 0.6443, 0.6504, 0.6438, 0.6499, 0.6382, 0.6400]\n",
        "xgboost_accuracy = [0.6208, 0.6062, 0.6198, 0.6175, 0.6100, 0.6184, 0.6156, 0.6194, 0.6198]\n",
        "\n",
        "# Calculate average accuracy across both models for each k\n",
        "average_accuracy = [(rf + xgb) / 2 for rf, xgb in zip(random_forest_accuracy, xgboost_accuracy)]\n",
        "\n",
        "# Plotting\n",
        "plt.figure(figsize=(10, 6))\n",
        "plt.plot(k_values, average_accuracy, marker='o', label='Average Accuracy')\n",
        "plt.xlabel('k (Number of Folds)')\n",
        "plt.ylabel('Average Accuracy')\n",
        "plt.title('K-Fold CV k with default model')\n",
        "plt.legend()\n",
        "plt.xticks(k_values)\n",
        "plt.ylim(0.6, 0.66)\n",
        "\n",
        "plt.show()\n"
      ]
    },
    {
      "cell_type": "code",
      "execution_count": 40,
      "metadata": {
        "colab": {
          "base_uri": "https://localhost:8080/"
        },
        "id": "m2X1EuPJPmM_",
        "outputId": "0526a1a4-d3c1-4743-db77-727391f2cbc9"
      },
      "outputs": [
        {
          "name": "stdout",
          "output_type": "stream",
          "text": [
            "hyperparameter for RandomForest: {'n_estimators': 100, 'min_samples_split': 20, 'min_samples_leaf': 4, 'max_depth': 30}\n",
            "score for RandomForest: 0.6602\n",
            "\n",
            "hyperparameter for XGBoost: {'subsample': 1.0, 'n_estimators': 100, 'max_depth': 3, 'learning_rate': 0.05, 'colsample_bytree': 1.0}\n",
            "score for XGBoost: 0.6532\n",
            "\n"
          ]
        }
      ],
      "source": [
        "param_grid_rf = {\n",
        "    'n_estimators': [100, 200, 300, 500],\n",
        "    'max_depth': [None, 10, 20, 30],\n",
        "    'min_samples_split': [2, 5, 10, 20],\n",
        "    'min_samples_leaf': [1, 2, 4, 8]\n",
        "}\n",
        "\n",
        "param_grid_xgb = {\n",
        "    'n_estimators': [100, 200, 300, 500],\n",
        "    'max_depth': [3, 5, 7, 10],\n",
        "    'learning_rate': [0.01, 0.05, 0.1, 0.3],\n",
        "    'subsample': [0.7,0.8, 0.9, 1.0],\n",
        "    'colsample_bytree': [0.7,0.8, 0.9, 1.0]\n",
        "}\n",
        "\n",
        "classifiers_1 = {\n",
        "    \"RandomForest\" : (RandomForestClassifier(random_state=0), param_grid_rf),\n",
        "    \"XGBoost\" : (XGBClassifier(random_state=0), param_grid_xgb)\n",
        "}\n",
        "\n",
        "grid_result = {}\n",
        "for name, (model, param_grid) in classifiers_1.items():\n",
        "  random_search1 = RandomizedSearchCV(\n",
        "      estimator=model,\n",
        "      param_distributions=param_grid,\n",
        "      n_iter=10,\n",
        "      cv=KFold(n_splits = 8),\n",
        "      scoring='accuracy',\n",
        "      random_state=0)\n",
        "  random_search1.fit(X_train1, y_train1)\n",
        "  grid_result[name] = random_search1.best_params_\n",
        "  print(f\"hyperparameter for {name}: {random_search1.best_params_}\")\n",
        "  print(f\"score for {name}: {random_search1.best_score_:.4f}\\n\")"
      ]
    },
    {
      "cell_type": "markdown",
      "metadata": {
        "id": "3EIe92fKRDFm"
      },
      "source": [
        "## Pengujian model"
      ]
    },
    {
      "cell_type": "markdown",
      "metadata": {
        "id": "WuFPvbZ6BjuE"
      },
      "source": [
        "### Random Forest xG"
      ]
    },
    {
      "cell_type": "code",
      "execution_count": 10,
      "metadata": {
        "colab": {
          "base_uri": "https://localhost:8080/",
          "height": 663
        },
        "id": "I29FwJbABnYN",
        "outputId": "a6a6fe1d-f9a0-4b6b-d1e0-3036c2db0b42"
      },
      "outputs": [
        {
          "name": "stdout",
          "output_type": "stream",
          "text": [
            "              precision    recall  f1-score   support\n",
            "\n",
            "           0       0.65      0.74      0.69       164\n",
            "           1       0.38      0.13      0.20       113\n",
            "           2       0.71      0.85      0.78       255\n",
            "\n",
            "    accuracy                           0.67       532\n",
            "   macro avg       0.58      0.58      0.56       532\n",
            "weighted avg       0.62      0.67      0.63       532\n",
            "\n",
            "0.6654135338345865\n"
          ]
        },
        {
          "data": {
            "text/plain": [
              "<sklearn.metrics._plot.confusion_matrix.ConfusionMatrixDisplay at 0x7bd7fd27eb50>"
            ]
          },
          "execution_count": 10,
          "metadata": {},
          "output_type": "execute_result"
        },
        {
          "data": {
            "image/png": "[encoded data removed]",
            "text/plain": [
              "<Figure size 640x480 with 2 Axes>"
            ]
          },
          "metadata": {},
          "output_type": "display_data"
        }
      ],
      "source": [
        "#Random Forest dengan xG\n",
        "clf_rf_xg = RandomForestClassifier(\n",
        "         n_estimators = 100,\n",
        "         min_samples_split = 20,\n",
        "         min_samples_leaf = 4,\n",
        "         max_depth = 30,\n",
        "         random_state = 0)\n",
        "\n",
        "#Pelatihan dan Pengujian\n",
        "M1 = clf_rf_xg.fit(X_train1, y_train1)\n",
        "M1_pred = M1.predict(X_test1)\n",
        "\n",
        "#Melihat Akurasi dan Heatmap Random Forest dengan xG\n",
        "print(classification_report(y_test1,M1_pred))\n",
        "print(accuracy_score(y_test1,M1_pred))\n",
        "\n",
        "labels = ['A', 'D', 'H']\n",
        "cf_matrix = confusion_matrix(y_test1,M1_pred)\n",
        "cmd = ConfusionMatrixDisplay(cf_matrix, display_labels=labels)\n",
        "cmd.plot()"
      ]
    },
    {
      "cell_type": "markdown",
      "metadata": {
        "id": "lb0uH2Q7BsPN"
      },
      "source": [
        "### XGBoost xG"
      ]
    },
    {
      "cell_type": "code",
      "execution_count": 11,
      "metadata": {
        "colab": {
          "base_uri": "https://localhost:8080/",
          "height": 663
        },
        "id": "rzAzpFr-Bvgt",
        "outputId": "84ca49f0-d9de-4c1e-a3a8-dd8948775000"
      },
      "outputs": [
        {
          "name": "stdout",
          "output_type": "stream",
          "text": [
            "              precision    recall  f1-score   support\n",
            "\n",
            "           0       0.66      0.75      0.70       164\n",
            "           1       0.34      0.11      0.16       113\n",
            "           2       0.69      0.84      0.76       255\n",
            "\n",
            "    accuracy                           0.66       532\n",
            "   macro avg       0.56      0.57      0.54       532\n",
            "weighted avg       0.61      0.66      0.62       532\n",
            "\n",
            "0.6578947368421053\n"
          ]
        },
        {
          "data": {
            "text/plain": [
              "<sklearn.metrics._plot.confusion_matrix.ConfusionMatrixDisplay at 0x7bd7fd20b490>"
            ]
          },
          "execution_count": 11,
          "metadata": {},
          "output_type": "execute_result"
        },
        {
          "data": {
            "image/png": "[encoded data removed]",
            "text/plain": [
              "<Figure size 640x480 with 2 Axes>"
            ]
          },
          "metadata": {},
          "output_type": "display_data"
        }
      ],
      "source": [
        "#XGBoost dengan xG\n",
        "clf_xgb_xg = XGBClassifier(\n",
        "      n_estimators = 100,\n",
        "      max_depth = 3,\n",
        "      learning_rate = 0.05,\n",
        "      subsample = 1.0,\n",
        "      colsample_bytree = 1.0,\n",
        "      random_state = 0)\n",
        "\n",
        "#Pelatihan dan Pengujian\n",
        "M2 = clf_xgb_xg.fit(X_train1, y_train1)\n",
        "M2_pred = M2.predict(X_test1)\n",
        "\n",
        "#Melihat Akurasi dan Heatmap XGBoost dengan xG\n",
        "print(classification_report(y_test1,M2_pred))\n",
        "print(accuracy_score(y_test1,M2_pred))\n",
        "\n",
        "labels = ['A', 'D', 'H']\n",
        "cf_matrix = confusion_matrix(y_test1,M2_pred)\n",
        "cmd = ConfusionMatrixDisplay(cf_matrix, display_labels=labels)\n",
        "cmd.plot()"
      ]
    },
    {
      "cell_type": "markdown",
      "metadata": {
        "id": "5dIX4EMbCVJG"
      },
      "source": [
        "### Random Forest Tanpa xG"
      ]
    },
    {
      "cell_type": "code",
      "execution_count": 12,
      "metadata": {
        "colab": {
          "base_uri": "https://localhost:8080/",
          "height": 663
        },
        "id": "4m49YzgXCgT0",
        "outputId": "ec5bf1e7-30aa-484d-db7e-4c5b84638d76"
      },
      "outputs": [
        {
          "name": "stdout",
          "output_type": "stream",
          "text": [
            "              precision    recall  f1-score   support\n",
            "\n",
            "           0       0.65      0.71      0.68       164\n",
            "           1       0.26      0.09      0.13       113\n",
            "           2       0.70      0.85      0.77       255\n",
            "\n",
            "    accuracy                           0.65       532\n",
            "   macro avg       0.54      0.55      0.53       532\n",
            "weighted avg       0.59      0.65      0.61       532\n",
            "\n",
            "0.6484962406015038\n"
          ]
        },
        {
          "data": {
            "text/plain": [
              "<sklearn.metrics._plot.confusion_matrix.ConfusionMatrixDisplay at 0x7bd7fd213750>"
            ]
          },
          "execution_count": 12,
          "metadata": {},
          "output_type": "execute_result"
        },
        {
          "data": {
            "image/png": "[encoded data removed]",
            "text/plain": [
              "<Figure size 640x480 with 2 Axes>"
            ]
          },
          "metadata": {},
          "output_type": "display_data"
        }
      ],
      "source": [
        "#Random Forest tanpa xG\n",
        "clf_rf = RandomForestClassifier(\n",
        "         n_estimators = 100,\n",
        "         min_samples_split = 20,\n",
        "         min_samples_leaf = 4,\n",
        "         max_depth = 30,\n",
        "         random_state = 0)\n",
        "\n",
        "#Pelatihan dan Pengujian\n",
        "M3 = clf_rf.fit(X_train2, y_train2)\n",
        "M3_pred = M3.predict(X_test2)\n",
        "\n",
        "#Melihat Akurasi dan Heatmap Random Forest tanpa xG\n",
        "print(classification_report(y_test2,M3_pred))\n",
        "print(accuracy_score(y_test2,M3_pred))\n",
        "\n",
        "labels = ['A', 'D', 'H']\n",
        "cf_matrix = confusion_matrix(y_test2,M3_pred)\n",
        "cmd = ConfusionMatrixDisplay(cf_matrix, display_labels=labels)\n",
        "cmd.plot()"
      ]
    },
    {
      "cell_type": "markdown",
      "metadata": {
        "id": "A5lwr9_9Cb4Q"
      },
      "source": [
        "### XGBoost tanpa xG"
      ]
    },
    {
      "cell_type": "code",
      "execution_count": 13,
      "metadata": {
        "colab": {
          "base_uri": "https://localhost:8080/",
          "height": 663
        },
        "id": "gPWR2ePiC0CD",
        "outputId": "9bef3222-b8c8-4c71-8a8a-de652cfaa901"
      },
      "outputs": [
        {
          "name": "stdout",
          "output_type": "stream",
          "text": [
            "              precision    recall  f1-score   support\n",
            "\n",
            "           0       0.66      0.74      0.70       164\n",
            "           1       0.27      0.09      0.13       113\n",
            "           2       0.69      0.85      0.76       255\n",
            "\n",
            "    accuracy                           0.65       532\n",
            "   macro avg       0.54      0.56      0.53       532\n",
            "weighted avg       0.59      0.65      0.61       532\n",
            "\n",
            "0.6522556390977443\n"
          ]
        },
        {
          "data": {
            "text/plain": [
              "<sklearn.metrics._plot.confusion_matrix.ConfusionMatrixDisplay at 0x7bd7fd654210>"
            ]
          },
          "execution_count": 13,
          "metadata": {},
          "output_type": "execute_result"
        },
        {
          "data": {
            "image/png": "[encoded data removed]",
            "text/plain": [
              "<Figure size 640x480 with 2 Axes>"
            ]
          },
          "metadata": {},
          "output_type": "display_data"
        }
      ],
      "source": [
        "#XGBoost tanpa xG\n",
        "clf_xgb = XGBClassifier(\n",
        "      n_estimators = 100,\n",
        "      max_depth = 3,\n",
        "      learning_rate = 0.05,\n",
        "      subsample = 1.0,\n",
        "      colsample_bytree = 1.0,\n",
        "      random_state = 0)\n",
        "\n",
        "#Pelatihan dan Pengujian\n",
        "M4 = clf_xgb.fit(X_train2, y_train2)\n",
        "M4_pred = M4.predict(X_test2)\n",
        "\n",
        "#Melihat Akurasi dan Heatmap XGBoost tanpa xG\n",
        "print(classification_report(y_test2,M4_pred))\n",
        "print(accuracy_score(y_test2,M4_pred))\n",
        "\n",
        "labels = ['A', 'D', 'H']\n",
        "cf_matrix = confusion_matrix(y_test2,M4_pred)\n",
        "cmd = ConfusionMatrixDisplay(cf_matrix, display_labels=labels)\n",
        "cmd.plot()"
      ]
    },
    {
      "cell_type": "code",
      "execution_count": 65,
      "metadata": {
        "colab": {
          "base_uri": "https://localhost:8080/",
          "height": 507
        },
        "id": "wU_AxYK80xVj",
        "outputId": "ca9748d5-e7dc-45c9-a180-3285bff1e96d"
      },
      "outputs": [
        {
          "data": {
            "image/png": "[encoded data removed]",
            "text/plain": [
              "<Figure size 800x500 with 1 Axes>"
            ]
          },
          "metadata": {},
          "output_type": "display_data"
        }
      ],
      "source": [
        "import matplotlib.pyplot as plt\n",
        "\n",
        "# Model names and accuracies\n",
        "models = ['RFxG', 'XGBxG', 'RF', 'XGB']\n",
        "accuracies = [66.54, 65.78, 64.84, 65.22]\n",
        "\n",
        "# Plotting\n",
        "plt.figure(figsize=(8, 5))\n",
        "bars = plt.bar(models, accuracies)\n",
        "\n",
        "# Annotate the accuracy on top of each bar\n",
        "for bar, acc in zip(bars, accuracies):\n",
        "    yval = bar.get_height()\n",
        "    plt.text(bar.get_x() + bar.get_width()/2.0, yval + 0.3, f'{acc:.2f}%', ha='center', va='bottom', fontsize=10)\n",
        "\n",
        "# Title and labels\n",
        "plt.title('Model Accuracy Comparison')\n",
        "plt.ylabel('Accuracy (%)')\n",
        "plt.ylim(60, 70)\n",
        "\n",
        "plt.grid(False)\n",
        "plt.tight_layout()\n",
        "plt.show()\n"
      ]
    },
    {
      "cell_type": "markdown",
      "metadata": {
        "id": "3xmMwDzeRAA_"
      },
      "source": [
        "## Menilai Fitur xG"
      ]
    },
    {
      "cell_type": "code",
      "execution_count": 14,
      "metadata": {
        "id": "R8jxaHAEQri_"
      },
      "outputs": [],
      "source": [
        "#Mengevaluasi nilai fitur xG\n",
        "feature_scores_rf_xg = pd.Series(M1.feature_importances_, index=X_train1.columns).sort_values(ascending=False).round(4)\n",
        "feature_scores_xgb_xg = pd.Series(M2.feature_importances_, index=X_train1.columns).sort_values(ascending=False).round(4)\n",
        "feature_scores_rf = pd.Series(M3.feature_importances_, index=X_train2.columns).sort_values(ascending=False).round(4)\n",
        "feature_scores_xgb = pd.Series(M4.feature_importances_, index=X_train2.columns).sort_values(ascending=False).round(4)"
      ]
    },
    {
      "cell_type": "code",
      "execution_count": 15,
      "metadata": {
        "colab": {
          "base_uri": "https://localhost:8080/",
          "height": 175
        },
        "id": "F7tErMMjRCyt",
        "outputId": "a4432a7b-6f6f-4eef-d4b8-d8ee2af6c1cd"
      },
      "outputs": [
        {
          "data": {
            "application/vnd.google.colaboratory.intrinsic+json": {
              "summary": "{\n  \"name\": \"feature_scores\",\n  \"rows\": 4,\n  \"fields\": [\n    {\n      \"column\": \"HTAG\",\n      \"properties\": {\n        \"dtype\": \"number\",\n        \"std\": 0.011408184394579992,\n        \"min\": 0.1769,\n        \"max\": 0.20430000126361847,\n        \"num_unique_values\": 4,\n        \"samples\": [\n          0.1914999932050705,\n          0.20430000126361847,\n          0.1769\n        ],\n        \"semantic_type\": \"\",\n        \"description\": \"\"\n      }\n    },\n    {\n      \"column\": \"HTHG\",\n      \"properties\": {\n        \"dtype\": \"number\",\n        \"std\": 0.025299866729914366,\n        \"min\": 0.1689,\n        \"max\": 0.2207999974489212,\n        \"num_unique_values\": 4,\n        \"samples\": [\n          0.2004999965429306,\n          0.2207999974489212,\n          0.1696\n        ],\n        \"semantic_type\": \"\",\n        \"description\": \"\"\n      }\n    },\n    {\n      \"column\": \"HST\",\n      \"properties\": {\n        \"dtype\": \"number\",\n        \"std\": 0.01498332575084277,\n        \"min\": 0.12129999697208405,\n        \"max\": 0.1522,\n        \"num_unique_values\": 4,\n        \"samples\": [\n          0.12129999697208405,\n          0.12349999696016312,\n          0.1426\n        ],\n        \"semantic_type\": \"\",\n        \"description\": \"\"\n      }\n    },\n    {\n      \"column\": \"AST\",\n      \"properties\": {\n        \"dtype\": \"number\",\n        \"std\": 0.010303842382512468,\n        \"min\": 0.1098,\n        \"max\": 0.1328,\n        \"num_unique_values\": 4,\n        \"samples\": [\n          0.1242000013589859,\n          0.13030000030994415,\n          0.1098\n        ],\n        \"semantic_type\": \"\",\n        \"description\": \"\"\n      }\n    },\n    {\n      \"column\": \"HxG\",\n      \"properties\": {\n        \"dtype\": \"number\",\n        \"std\": 0.016051323608403896,\n        \"min\": 0.040300000458955765,\n        \"max\": 0.063,\n        \"num_unique_values\": 2,\n        \"samples\": [\n          0.040300000458955765,\n          0.063\n        ],\n        \"semantic_type\": \"\",\n        \"description\": \"\"\n      }\n    },\n    {\n      \"column\": \"AxG\",\n      \"properties\": {\n        \"dtype\": \"number\",\n        \"std\": 0.01272792077166429,\n        \"min\": 0.03840000182390213,\n        \"max\": 0.0564,\n        \"num_unique_values\": 2,\n        \"samples\": [\n          0.03840000182390213,\n          0.0564\n        ],\n        \"semantic_type\": \"\",\n        \"description\": \"\"\n      }\n    },\n    {\n      \"column\": \"AS\",\n      \"properties\": {\n        \"dtype\": \"number\",\n        \"std\": 0.017577139649853038,\n        \"min\": 0.029899999499320984,\n        \"max\": 0.0659,\n        \"num_unique_values\": 4,\n        \"samples\": [\n          0.029899999499320984,\n          0.030700000002980232\n        ],\n        \"semantic_type\": \"\",\n        \"description\": \"\"\n      }\n    },\n    {\n      \"column\": \"HS\",\n      \"properties\": {\n        \"dtype\": \"number\",\n        \"std\": 0.019978050781443855,\n        \"min\": 0.02459999918937683,\n        \"max\": 0.0681,\n        \"num_unique_values\": 4,\n        \"samples\": [\n          0.02459999918937683,\n          0.02979999966919422\n        ],\n        \"semantic_type\": \"\",\n        \"description\": \"\"\n      }\n    },\n    {\n      \"column\": \"HC\",\n      \"properties\": {\n        \"dtype\": \"number\",\n        \"std\": 0.004314317403039857,\n        \"min\": 0.0352,\n        \"max\": 0.0452,\n        \"num_unique_values\": 4,\n        \"samples\": [\n          0.03759999945759773,\n          0.03799999877810478\n        ],\n        \"semantic_type\": \"\",\n        \"description\": \"\"\n      }\n    },\n    {\n      \"column\": \"HF\",\n      \"properties\": {\n        \"dtype\": \"number\",\n        \"std\": 0.007617687500628698,\n        \"min\": 0.024700000882148743,\n        \"max\": 0.0419,\n        \"num_unique_values\": 4,\n        \"samples\": [\n          0.024700000882148743,\n          0.027499999850988388\n        ],\n        \"semantic_type\": \"\",\n        \"description\": \"\"\n      }\n    },\n    {\n      \"column\": \"AF\",\n      \"properties\": {\n        \"dtype\": \"number\",\n        \"std\": 0.010532647598394092,\n        \"min\": 0.01679999940097332,\n        \"max\": 0.038,\n        \"num_unique_values\": 4,\n        \"samples\": [\n          0.01679999940097332,\n          0.01810000091791153\n        ],\n        \"semantic_type\": \"\",\n        \"description\": \"\"\n      }\n    },\n    {\n      \"column\": \"AC\",\n      \"properties\": {\n        \"dtype\": \"number\",\n        \"std\": 0.005822013066672942,\n        \"min\": 0.022299999371170998,\n        \"max\": 0.0364,\n        \"num_unique_values\": 4,\n        \"samples\": [\n          0.022299999371170998,\n          0.027499999850988388\n        ],\n        \"semantic_type\": \"\",\n        \"description\": \"\"\n      }\n    },\n    {\n      \"column\": \"AY\",\n      \"properties\": {\n        \"dtype\": \"number\",\n        \"std\": 0.003189043652751225,\n        \"min\": 0.022600000724196434,\n        \"max\": 0.0286,\n        \"num_unique_values\": 4,\n        \"samples\": [\n          0.022600000724196434,\n          0.028200000524520874\n        ],\n        \"semantic_type\": \"\",\n        \"description\": \"\"\n      }\n    },\n    {\n      \"column\": \"HY\",\n      \"properties\": {\n        \"dtype\": \"number\",\n        \"std\": 0.004336953699150871,\n        \"min\": 0.0204,\n        \"max\": 0.03060000017285347,\n        \"num_unique_values\": 4,\n        \"samples\": [\n          0.026900000870227814,\n          0.03060000017285347\n        ],\n        \"semantic_type\": \"\",\n        \"description\": \"\"\n      }\n    },\n    {\n      \"column\": \"AR\",\n      \"properties\": {\n        \"dtype\": \"number\",\n        \"std\": 0.028783487641335065,\n        \"min\": 0.0035,\n        \"max\": 0.058800000697374344,\n        \"num_unique_values\": 4,\n        \"samples\": [\n          0.04699999839067459,\n          0.058800000697374344\n        ],\n        \"semantic_type\": \"\",\n        \"description\": \"\"\n      }\n    },\n    {\n      \"column\": \"HR\",\n      \"properties\": {\n        \"dtype\": \"number\",\n        \"std\": 0.016797097980701853,\n        \"min\": 0.0017,\n        \"max\": 0.03220000118017197,\n        \"num_unique_values\": 4,\n        \"samples\": [\n          0.03139999881386757,\n          0.03220000118017197\n        ],\n        \"semantic_type\": \"\",\n        \"description\": \"\"\n      }\n    }\n  ]\n}",
              "type": "dataframe",
              "variable_name": "feature_scores"
            },
            "text/html": [
              "\n",
              "  <div id=\"df-159e57df-26b2-4821-a387-2cc72b45ead1\" class=\"colab-df-container\">\n",
              "    <div>\n",
              "<style scoped>\n",
              "    .dataframe tbody tr th:only-of-type {\n",
              "        vertical-align: middle;\n",
              "    }\n",
              "\n",
              "    .dataframe tbody tr th {\n",
              "        vertical-align: top;\n",
              "    }\n",
              "\n",
              "    .dataframe thead th {\n",
              "        text-align: right;\n",
              "    }\n",
              "</style>\n",
              "<table border=\"1\" class=\"dataframe\">\n",
              "  <thead>\n",
              "    <tr style=\"text-align: right;\">\n",
              "      <th></th>\n",
              "      <th>HTAG</th>\n",
              "      <th>HTHG</th>\n",
              "      <th>HST</th>\n",
              "      <th>AST</th>\n",
              "      <th>HxG</th>\n",
              "      <th>AxG</th>\n",
              "      <th>AS</th>\n",
              "      <th>HS</th>\n",
              "      <th>HC</th>\n",
              "      <th>HF</th>\n",
              "      <th>AF</th>\n",
              "      <th>AC</th>\n",
              "      <th>AY</th>\n",
              "      <th>HY</th>\n",
              "      <th>AR</th>\n",
              "      <th>HR</th>\n",
              "    </tr>\n",
              "  </thead>\n",
              "  <tbody>\n",
              "    <tr>\n",
              "      <th>0</th>\n",
              "      <td>0.1769</td>\n",
              "      <td>0.1696</td>\n",
              "      <td>0.1426</td>\n",
              "      <td>0.1098</td>\n",
              "      <td>0.0630</td>\n",
              "      <td>0.0564</td>\n",
              "      <td>0.0526</td>\n",
              "      <td>0.0504</td>\n",
              "      <td>0.0352</td>\n",
              "      <td>0.0336</td>\n",
              "      <td>0.0325</td>\n",
              "      <td>0.0287</td>\n",
              "      <td>0.0232</td>\n",
              "      <td>0.0204</td>\n",
              "      <td>0.0035</td>\n",
              "      <td>0.0017</td>\n",
              "    </tr>\n",
              "    <tr>\n",
              "      <th>1</th>\n",
              "      <td>0.1915</td>\n",
              "      <td>0.2005</td>\n",
              "      <td>0.1213</td>\n",
              "      <td>0.1242</td>\n",
              "      <td>0.0403</td>\n",
              "      <td>0.0384</td>\n",
              "      <td>0.0299</td>\n",
              "      <td>0.0246</td>\n",
              "      <td>0.0376</td>\n",
              "      <td>0.0247</td>\n",
              "      <td>0.0168</td>\n",
              "      <td>0.0223</td>\n",
              "      <td>0.0226</td>\n",
              "      <td>0.0269</td>\n",
              "      <td>0.0470</td>\n",
              "      <td>0.0314</td>\n",
              "    </tr>\n",
              "    <tr>\n",
              "      <th>2</th>\n",
              "      <td>0.1865</td>\n",
              "      <td>0.1689</td>\n",
              "      <td>0.1522</td>\n",
              "      <td>0.1328</td>\n",
              "      <td>NaN</td>\n",
              "      <td>NaN</td>\n",
              "      <td>0.0659</td>\n",
              "      <td>0.0681</td>\n",
              "      <td>0.0452</td>\n",
              "      <td>0.0419</td>\n",
              "      <td>0.0380</td>\n",
              "      <td>0.0364</td>\n",
              "      <td>0.0286</td>\n",
              "      <td>0.0280</td>\n",
              "      <td>0.0040</td>\n",
              "      <td>0.0038</td>\n",
              "    </tr>\n",
              "    <tr>\n",
              "      <th>3</th>\n",
              "      <td>0.2043</td>\n",
              "      <td>0.2208</td>\n",
              "      <td>0.1235</td>\n",
              "      <td>0.1303</td>\n",
              "      <td>NaN</td>\n",
              "      <td>NaN</td>\n",
              "      <td>0.0307</td>\n",
              "      <td>0.0298</td>\n",
              "      <td>0.0380</td>\n",
              "      <td>0.0275</td>\n",
              "      <td>0.0181</td>\n",
              "      <td>0.0275</td>\n",
              "      <td>0.0282</td>\n",
              "      <td>0.0306</td>\n",
              "      <td>0.0588</td>\n",
              "      <td>0.0322</td>\n",
              "    </tr>\n",
              "  </tbody>\n",
              "</table>\n",
              "</div>\n",
              "    <div class=\"colab-df-buttons\">\n",
              "\n",
              "  <div class=\"colab-df-container\">\n",
              "    <button class=\"colab-df-convert\" onclick=\"convertToInteractive('df-159e57df-26b2-4821-a387-2cc72b45ead1')\"\n",
              "            title=\"Convert this dataframe to an interactive table.\"\n",
              "            style=\"display:none;\">\n",
              "\n",
              "  <svg xmlns=\"http://www.w3.org/2000/svg\" height=\"24px\" viewBox=\"0 -960 960 960\">\n",
              "    <path d=\"M120-120v-720h720v720H120Zm60-500h600v-160H180v160Zm220 220h160v-160H400v160Zm0 220h160v-160H400v160ZM180-400h160v-160H180v160Zm440 0h160v-160H620v160ZM180-180h160v-160H180v160Zm440 0h160v-160H620v160Z\"/>\n",
              "  </svg>\n",
              "    </button>\n",
              "\n",
              "  <style>\n",
              "    .colab-df-container {\n",
              "      display:flex;\n",
              "      gap: 12px;\n",
              "    }\n",
              "\n",
              "    .colab-df-convert {\n",
              "      background-color: #E8F0FE;\n",
              "      border: none;\n",
              "      border-radius: 50%;\n",
              "      cursor: pointer;\n",
              "      display: none;\n",
              "      fill: #1967D2;\n",
              "      height: 32px;\n",
              "      padding: 0 0 0 0;\n",
              "      width: 32px;\n",
              "    }\n",
              "\n",
              "    .colab-df-convert:hover {\n",
              "      background-color: #E2EBFA;\n",
              "      box-shadow: 0px 1px 2px rgba(60, 64, 67, 0.3), 0px 1px 3px 1px rgba(60, 64, 67, 0.15);\n",
              "      fill: #174EA6;\n",
              "    }\n",
              "\n",
              "    .colab-df-buttons div {\n",
              "      margin-bottom: 4px;\n",
              "    }\n",
              "\n",
              "    [theme=dark] .colab-df-convert {\n",
              "      background-color: #3B4455;\n",
              "      fill: #D2E3FC;\n",
              "    }\n",
              "\n",
              "    [theme=dark] .colab-df-convert:hover {\n",
              "      background-color: #434B5C;\n",
              "      box-shadow: 0px 1px 3px 1px rgba(0, 0, 0, 0.15);\n",
              "      filter: drop-shadow(0px 1px 2px rgba(0, 0, 0, 0.3));\n",
              "      fill: #FFFFFF;\n",
              "    }\n",
              "  </style>\n",
              "\n",
              "    <script>\n",
              "      const buttonEl =\n",
              "        document.querySelector('#df-159e57df-26b2-4821-a387-2cc72b45ead1 button.colab-df-convert');\n",
              "      buttonEl.style.display =\n",
              "        google.colab.kernel.accessAllowed ? 'block' : 'none';\n",
              "\n",
              "      async function convertToInteractive(key) {\n",
              "        const element = document.querySelector('#df-159e57df-26b2-4821-a387-2cc72b45ead1');\n",
              "        const dataTable =\n",
              "          await google.colab.kernel.invokeFunction('convertToInteractive',\n",
              "                                                    [key], {});\n",
              "        if (!dataTable) return;\n",
              "\n",
              "        const docLinkHtml = 'Like what you see? Visit the ' +\n",
              "          '<a target=\"_blank\" href=https://colab.research.google.com/notebooks/data_table.ipynb>data table notebook</a>'\n",
              "          + ' to learn more about interactive tables.';\n",
              "        element.innerHTML = '';\n",
              "        dataTable['output_type'] = 'display_data';\n",
              "        await google.colab.output.renderOutput(dataTable, element);\n",
              "        const docLink = document.createElement('div');\n",
              "        docLink.innerHTML = docLinkHtml;\n",
              "        element.appendChild(docLink);\n",
              "      }\n",
              "    </script>\n",
              "  </div>\n",
              "\n",
              "\n",
              "<div id=\"df-b6666265-65f0-4c96-9790-8f33742d9a49\">\n",
              "  <button class=\"colab-df-quickchart\" onclick=\"quickchart('df-b6666265-65f0-4c96-9790-8f33742d9a49')\"\n",
              "            title=\"Suggest charts\"\n",
              "            style=\"display:none;\">\n",
              "\n",
              "<svg xmlns=\"http://www.w3.org/2000/svg\" height=\"24px\"viewBox=\"0 0 24 24\"\n",
              "     width=\"24px\">\n",
              "    <g>\n",
              "        <path d=\"M19 3H5c-1.1 0-2 .9-2 2v14c0 1.1.9 2 2 2h14c1.1 0 2-.9 2-2V5c0-1.1-.9-2-2-2zM9 17H7v-7h2v7zm4 0h-2V7h2v10zm4 0h-2v-4h2v4z\"/>\n",
              "    </g>\n",
              "</svg>\n",
              "  </button>\n",
              "\n",
              "<style>\n",
              "  .colab-df-quickchart {\n",
              "      --bg-color: #E8F0FE;\n",
              "      --fill-color: #1967D2;\n",
              "      --hover-bg-color: #E2EBFA;\n",
              "      --hover-fill-color: #174EA6;\n",
              "      --disabled-fill-color: #AAA;\n",
              "      --disabled-bg-color: #DDD;\n",
              "  }\n",
              "\n",
              "  [theme=dark] .colab-df-quickchart {\n",
              "      --bg-color: #3B4455;\n",
              "      --fill-color: #D2E3FC;\n",
              "      --hover-bg-color: #434B5C;\n",
              "      --hover-fill-color: #FFFFFF;\n",
              "      --disabled-bg-color: #3B4455;\n",
              "      --disabled-fill-color: #666;\n",
              "  }\n",
              "\n",
              "  .colab-df-quickchart {\n",
              "    background-color: var(--bg-color);\n",
              "    border: none;\n",
              "    border-radius: 50%;\n",
              "    cursor: pointer;\n",
              "    display: none;\n",
              "    fill: var(--fill-color);\n",
              "    height: 32px;\n",
              "    padding: 0;\n",
              "    width: 32px;\n",
              "  }\n",
              "\n",
              "  .colab-df-quickchart:hover {\n",
              "    background-color: var(--hover-bg-color);\n",
              "    box-shadow: 0 1px 2px rgba(60, 64, 67, 0.3), 0 1px 3px 1px rgba(60, 64, 67, 0.15);\n",
              "    fill: var(--button-hover-fill-color);\n",
              "  }\n",
              "\n",
              "  .colab-df-quickchart-complete:disabled,\n",
              "  .colab-df-quickchart-complete:disabled:hover {\n",
              "    background-color: var(--disabled-bg-color);\n",
              "    fill: var(--disabled-fill-color);\n",
              "    box-shadow: none;\n",
              "  }\n",
              "\n",
              "  .colab-df-spinner {\n",
              "    border: 2px solid var(--fill-color);\n",
              "    border-color: transparent;\n",
              "    border-bottom-color: var(--fill-color);\n",
              "    animation:\n",
              "      spin 1s steps(1) infinite;\n",
              "  }\n",
              "\n",
              "  @keyframes spin {\n",
              "    0% {\n",
              "      border-color: transparent;\n",
              "      border-bottom-color: var(--fill-color);\n",
              "      border-left-color: var(--fill-color);\n",
              "    }\n",
              "    20% {\n",
              "      border-color: transparent;\n",
              "      border-left-color: var(--fill-color);\n",
              "      border-top-color: var(--fill-color);\n",
              "    }\n",
              "    30% {\n",
              "      border-color: transparent;\n",
              "      border-left-color: var(--fill-color);\n",
              "      border-top-color: var(--fill-color);\n",
              "      border-right-color: var(--fill-color);\n",
              "    }\n",
              "    40% {\n",
              "      border-color: transparent;\n",
              "      border-right-color: var(--fill-color);\n",
              "      border-top-color: var(--fill-color);\n",
              "    }\n",
              "    60% {\n",
              "      border-color: transparent;\n",
              "      border-right-color: var(--fill-color);\n",
              "    }\n",
              "    80% {\n",
              "      border-color: transparent;\n",
              "      border-right-color: var(--fill-color);\n",
              "      border-bottom-color: var(--fill-color);\n",
              "    }\n",
              "    90% {\n",
              "      border-color: transparent;\n",
              "      border-bottom-color: var(--fill-color);\n",
              "    }\n",
              "  }\n",
              "</style>\n",
              "\n",
              "  <script>\n",
              "    async function quickchart(key) {\n",
              "      const quickchartButtonEl =\n",
              "        document.querySelector('#' + key + ' button');\n",
              "      quickchartButtonEl.disabled = true;  // To prevent multiple clicks.\n",
              "      quickchartButtonEl.classList.add('colab-df-spinner');\n",
              "      try {\n",
              "        const charts = await google.colab.kernel.invokeFunction(\n",
              "            'suggestCharts', [key], {});\n",
              "      } catch (error) {\n",
              "        console.error('Error during call to suggestCharts:', error);\n",
              "      }\n",
              "      quickchartButtonEl.classList.remove('colab-df-spinner');\n",
              "      quickchartButtonEl.classList.add('colab-df-quickchart-complete');\n",
              "    }\n",
              "    (() => {\n",
              "      let quickchartButtonEl =\n",
              "        document.querySelector('#df-b6666265-65f0-4c96-9790-8f33742d9a49 button');\n",
              "      quickchartButtonEl.style.display =\n",
              "        google.colab.kernel.accessAllowed ? 'block' : 'none';\n",
              "    })();\n",
              "  </script>\n",
              "</div>\n",
              "\n",
              "  <div id=\"id_e7f9d4d4-2daf-486d-b676-e0b27195cd19\">\n",
              "    <style>\n",
              "      .colab-df-generate {\n",
              "        background-color: #E8F0FE;\n",
              "        border: none;\n",
              "        border-radius: 50%;\n",
              "        cursor: pointer;\n",
              "        display: none;\n",
              "        fill: #1967D2;\n",
              "        height: 32px;\n",
              "        padding: 0 0 0 0;\n",
              "        width: 32px;\n",
              "      }\n",
              "\n",
              "      .colab-df-generate:hover {\n",
              "        background-color: #E2EBFA;\n",
              "        box-shadow: 0px 1px 2px rgba(60, 64, 67, 0.3), 0px 1px 3px 1px rgba(60, 64, 67, 0.15);\n",
              "        fill: #174EA6;\n",
              "      }\n",
              "\n",
              "      [theme=dark] .colab-df-generate {\n",
              "        background-color: #3B4455;\n",
              "        fill: #D2E3FC;\n",
              "      }\n",
              "\n",
              "      [theme=dark] .colab-df-generate:hover {\n",
              "        background-color: #434B5C;\n",
              "        box-shadow: 0px 1px 3px 1px rgba(0, 0, 0, 0.15);\n",
              "        filter: drop-shadow(0px 1px 2px rgba(0, 0, 0, 0.3));\n",
              "        fill: #FFFFFF;\n",
              "      }\n",
              "    </style>\n",
              "    <button class=\"colab-df-generate\" onclick=\"generateWithVariable('feature_scores')\"\n",
              "            title=\"Generate code using this dataframe.\"\n",
              "            style=\"display:none;\">\n",
              "\n",
              "  <svg xmlns=\"http://www.w3.org/2000/svg\" height=\"24px\"viewBox=\"0 0 24 24\"\n",
              "       width=\"24px\">\n",
              "    <path d=\"M7,19H8.4L18.45,9,17,7.55,7,17.6ZM5,21V16.75L18.45,3.32a2,2,0,0,1,2.83,0l1.4,1.43a1.91,1.91,0,0,1,.58,1.4,1.91,1.91,0,0,1-.58,1.4L9.25,21ZM18.45,9,17,7.55Zm-12,3A5.31,5.31,0,0,0,4.9,8.1,5.31,5.31,0,0,0,1,6.5,5.31,5.31,0,0,0,4.9,4.9,5.31,5.31,0,0,0,6.5,1,5.31,5.31,0,0,0,8.1,4.9,5.31,5.31,0,0,0,12,6.5,5.46,5.46,0,0,0,6.5,12Z\"/>\n",
              "  </svg>\n",
              "    </button>\n",
              "    <script>\n",
              "      (() => {\n",
              "      const buttonEl =\n",
              "        document.querySelector('#id_e7f9d4d4-2daf-486d-b676-e0b27195cd19 button.colab-df-generate');\n",
              "      buttonEl.style.display =\n",
              "        google.colab.kernel.accessAllowed ? 'block' : 'none';\n",
              "\n",
              "      buttonEl.onclick = () => {\n",
              "        google.colab.notebook.generateWithVariable('feature_scores');\n",
              "      }\n",
              "      })();\n",
              "    </script>\n",
              "  </div>\n",
              "\n",
              "    </div>\n",
              "  </div>\n"
            ],
            "text/plain": [
              "     HTAG    HTHG     HST     AST     HxG     AxG      AS      HS      HC  \\\n",
              "0  0.1769  0.1696  0.1426  0.1098  0.0630  0.0564  0.0526  0.0504  0.0352   \n",
              "1  0.1915  0.2005  0.1213  0.1242  0.0403  0.0384  0.0299  0.0246  0.0376   \n",
              "2  0.1865  0.1689  0.1522  0.1328     NaN     NaN  0.0659  0.0681  0.0452   \n",
              "3  0.2043  0.2208  0.1235  0.1303     NaN     NaN  0.0307  0.0298  0.0380   \n",
              "\n",
              "       HF      AF      AC      AY      HY      AR      HR  \n",
              "0  0.0336  0.0325  0.0287  0.0232  0.0204  0.0035  0.0017  \n",
              "1  0.0247  0.0168  0.0223  0.0226  0.0269  0.0470  0.0314  \n",
              "2  0.0419  0.0380  0.0364  0.0286  0.0280  0.0040  0.0038  \n",
              "3  0.0275  0.0181  0.0275  0.0282  0.0306  0.0588  0.0322  "
            ]
          },
          "execution_count": 15,
          "metadata": {},
          "output_type": "execute_result"
        }
      ],
      "source": [
        "feature_scores = pd.DataFrame([feature_scores_rf_xg,\n",
        "                               feature_scores_xgb_xg,\n",
        "                               feature_scores_rf,\n",
        "                               feature_scores_xgb])\n",
        "feature_scores"
      ]
    },
    {
      "cell_type": "code",
      "execution_count": 16,
      "metadata": {
        "colab": {
          "base_uri": "https://localhost:8080/"
        },
        "id": "Bz1HJ_oiRGhZ",
        "outputId": "ef5c33fb-867f-477d-b2c0-82b849065f81"
      },
      "outputs": [
        {
          "name": "stdout",
          "output_type": "stream",
          "text": [
            "HTAG    0.189800\n",
            "HTHG    0.189950\n",
            "HST     0.134900\n",
            "AST     0.124275\n",
            "HxG     0.051650\n",
            "AxG     0.047400\n",
            "AS      0.044775\n",
            "HS      0.043225\n",
            "HC      0.039000\n",
            "HF      0.031925\n",
            "AF      0.026350\n",
            "AC      0.028725\n",
            "AY      0.025650\n",
            "HY      0.026475\n",
            "AR      0.028325\n",
            "HR      0.017275\n",
            "dtype: float64\n"
          ]
        }
      ],
      "source": [
        "avg_fs = feature_scores.mean(axis=0)\n",
        "\n",
        "print(avg_fs)"
      ]
    },
    {
      "cell_type": "code",
      "execution_count": 17,
      "metadata": {
        "colab": {
          "base_uri": "https://localhost:8080/",
          "height": 754
        },
        "id": "HWnq5q7CRKw_",
        "outputId": "e6d468a7-41f1-4e75-db0e-105311fa4e0b"
      },
      "outputs": [
        {
          "name": "stderr",
          "output_type": "stream",
          "text": [
            "<ipython-input-17-056a75232c92>:4: UserWarning: set_ticklabels() should only be used with a fixed number of ticks, i.e. after set_ticks() or using a FixedLocator.\n",
            "  ax.set_yticklabels(avg_fs.index)\n"
          ]
        },
        {
          "data": {
            "image/png": "[encoded data removed]",
            "text/plain": [
              "<Figure size 1000x800 with 1 Axes>"
            ]
          },
          "metadata": {},
          "output_type": "display_data"
        }
      ],
      "source": [
        "f, ax = plt.subplots(figsize=(10, 8))\n",
        "ax = sns.barplot(x=avg_fs, y=avg_fs.index)\n",
        "ax.set_title(\"Feature Importance\")\n",
        "ax.set_yticklabels(avg_fs.index)\n",
        "ax.set_xlabel(\"Feature importance score\")\n",
        "ax.set_ylabel(\"Feature\")\n",
        "plt.show()"
      ]
    },
    {
      "cell_type": "markdown",
      "metadata": {
        "id": "2B9Tgkp20wfF"
      },
      "source": [
        "## Simpan Model"
      ]
    },
    {
      "cell_type": "code",
      "execution_count": 18,
      "metadata": {
        "colab": {
          "base_uri": "https://localhost:8080/",
          "height": 35
        },
        "id": "nrWlqTs5Cbf0",
        "outputId": "516bdd2e-af9a-4404-b53b-5e6fa4a44914"
      },
      "outputs": [
        {
          "data": {
            "application/vnd.google.colaboratory.intrinsic+json": {
              "type": "string"
            },
            "text/plain": [
              "'/content/drive/MyDrive/Tugas Akhir/Model/ML/xgboost.pkl'"
            ]
          },
          "execution_count": 18,
          "metadata": {},
          "output_type": "execute_result"
        }
      ],
      "source": [
        "#menyimpan model\n",
        "import joblib\n",
        "import shutil\n",
        "\n",
        "joblib.dump(M1, 'random_forest_xg.pkl')\n",
        "joblib.dump(M2, 'xgboost_xg.pkl')\n",
        "joblib.dump(M3, 'random_forest.pkl')\n",
        "joblib.dump(M4, 'xgboost.pkl')\n",
        "\n",
        "shutil.move(\"random_forest_xg.pkl\", filepath + \"/ML/random_forest_xg.pkl\")\n",
        "shutil.move(\"xgboost_xg.pkl\", filepath + \"/ML/xgboost_xg.pkl\")\n",
        "shutil.move(\"random_forest.pkl\", filepath + \"/ML/random_forest.pkl\")\n",
        "shutil.move(\"xgboost.pkl\", filepath + \"/ML/xgboost.pkl\")"
      ]
    }
  ],
  "metadata": {
    "colab": {
      "provenance": []
    },
    "kernelspec": {
      "display_name": "Python 3",
      "name": "python3"
    },
    "language_info": {
      "name": "python"
    }
  },
  "nbformat": 4,
  "nbformat_minor": 0
}
